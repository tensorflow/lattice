{
  "cells": [
    {
      "cell_type": "markdown",
      "metadata": {
        "id": "R2AxpObRncMd"
      },
      "source": [
        "***Copyright 2020 The TensorFlow Authors.***"
      ]
    },
    {
      "cell_type": "code",
      "execution_count": null,
      "metadata": {
        "cellView": "form",
        "id": "gQ5Kfh1YnkFS"
      },
      "outputs": [],
      "source": [
        "#@title Licensed under the Apache License, Version 2.0 (the \"License\");\n",
        "# you may not use this file except in compliance with the License.\n",
        "# You may obtain a copy of the License at\n",
        "#\n",
        "# https://www.apache.org/licenses/LICENSE-2.0\n",
        "#\n",
        "# Unless required by applicable law or agreed to in writing, software\n",
        "# distributed under the License is distributed on an \"AS IS\" BASIS,\n",
        "# WITHOUT WARRANTIES OR CONDITIONS OF ANY KIND, either express or implied.\n",
        "# See the License for the specific language governing permissions and\n",
        "# limitations under the License."
      ]
    },
    {
      "cell_type": "markdown",
      "metadata": {
        "id": "uc0VwsT5nvQi"
      },
      "source": [
        "# Shape Constraints for Ethics with Tensorflow Lattice"
      ]
    },
    {
      "cell_type": "markdown",
      "metadata": {
        "id": "gqJQZdvfn32j"
      },
      "source": [
        "\u003ctable class=\"tfo-notebook-buttons\" align=\"left\"\u003e\n",
        "  \u003ctd\u003e\n",
        "    \u003ca target=\"_blank\" href=\"https://www.tensorflow.org/lattice/tutorials/shape_constraints_for_ethics\"\u003e\u003cimg src=\"https://www.tensorflow.org/images/tf_logo_32px.png\" /\u003eView on TensorFlow.org\u003c/a\u003e\n",
        "  \u003c/td\u003e\n",
        "  \u003ctd\u003e\n",
        "    \u003ca target=\"_blank\" href=\"https://colab.research.google.com/github/tensorflow/lattice/blob/master/docs/tutorials/shape_constraints_for_ethics.ipynb\"\u003e\u003cimg src=\"https://www.tensorflow.org/images/colab_logo_32px.png\" /\u003eRun in Google Colab\u003c/a\u003e\n",
        "  \u003c/td\u003e\n",
        "  \u003ctd\u003e\n",
        "    \u003ca target=\"_blank\" href=\"https://github.com/tensorflow/lattice/blob/master/docs/tutorials/shape_constraints_for_ethics.ipynb\"\u003e\u003cimg src=\"https://www.tensorflow.org/images/GitHub-Mark-32px.png\" /\u003eView source on GitHub\u003c/a\u003e\n",
        "  \u003c/td\u003e\n",
        "  \u003ctd\u003e\n",
        "    \u003ca href=\"https://storage.googleapis.com/tensorflow_docs/lattice/docs/tutorials/shape_constraints_for_ethics.ipynb\"\u003e\u003cimg src=\"https://www.tensorflow.org/images/download_logo_32px.png\" /\u003eDownload notebook\u003c/a\u003e\n",
        "  \u003c/td\u003e\n",
        "\u003c/table\u003e"
      ]
    },
    {
      "cell_type": "markdown",
      "metadata": {
        "id": "YFZbuZMAoBny"
      },
      "source": [
        "## Overview\n",
        "\n",
        "This tutorial demonstrates how the TensorFlow Lattice (TFL) library can be used\n",
        "to train models that behave *responsibly*, and do not violate certain\n",
        "assumptions that are *ethical* or *fair*. In particular, we will focus on using monotonicity constraints to avoid *unfair penalization* of certain attributes. This tutorial includes demonstrations\n",
        "of the experiments from the paper\n",
        "[*Deontological Ethics By Monotonicity Shape Constraints*](https://arxiv.org/abs/2001.11990)\n",
        "by Serena Wang and Maya Gupta, published at\n",
        "[AISTATS 2020](https://www.aistats.org/).\n",
        "\n",
        "We will use TFL premade models on public datasets, but note that\n",
        "everything in this tutorial can also be done with models constructed from TFL\n",
        "Keras layers.\n",
        "\n",
        "Before proceeding, make sure your runtime has all required packages installed\n",
        "(as imported in the code cells below)."
      ]
    },
    {
      "cell_type": "markdown",
      "metadata": {
        "id": "o4L76T-NpgCS"
      },
      "source": [
        "## Setup"
      ]
    },
    {
      "cell_type": "markdown",
      "metadata": {
        "id": "6FvmHcqbpkL7"
      },
      "source": [
        "Installing TF Lattice package:"
      ]
    },
    {
      "cell_type": "code",
      "execution_count": null,
      "metadata": {
        "id": "f91yvUt_peYs"
      },
      "outputs": [],
      "source": [
        "#@test {\"skip\": true}\n",
        "!pip install -U tensorflow tf-keras tensorflow-lattice seaborn pydot graphviz\n",
        "!pip install -U tensorflow_decision_forests"
      ]
    },
    {
      "cell_type": "markdown",
      "metadata": {
        "id": "6TDoQsvSpmfx"
      },
      "source": [
        "Importing required packages:"
      ]
    },
    {
      "cell_type": "code",
      "execution_count": null,
      "metadata": {
        "id": "KGt0pm0b1O5X"
      },
      "outputs": [],
      "source": [
        "import tensorflow as tf\n",
        "import tensorflow_lattice as tfl\n",
        "import tensorflow_decision_forests as tfdf\n",
        "\n",
        "import logging\n",
        "import matplotlib.pyplot as plt\n",
        "import numpy as np\n",
        "import os\n",
        "import pandas as pd\n",
        "import seaborn as sns\n",
        "from sklearn.model_selection import train_test_split\n",
        "import sys\n",
        "import tempfile\n",
        "logging.disable(sys.maxsize)"
      ]
    },
    {
      "cell_type": "code",
      "execution_count": null,
      "metadata": {
        "id": "csVitiM20zAY"
      },
      "outputs": [],
      "source": [
        "# Use Keras 2.\n",
        "version_fn = getattr(tf.keras, \"version\", None)\n",
        "if version_fn and version_fn().startswith(\"3.\"):\n",
        "  import tf_keras as keras\n",
        "else:\n",
        "  keras = tf.keras"
      ]
    },
    {
      "cell_type": "markdown",
      "metadata": {
        "id": "DFN6GOcBAqzv"
      },
      "source": [
        "Default values used in this tutorial:"
      ]
    },
    {
      "cell_type": "code",
      "execution_count": null,
      "metadata": {
        "id": "9uqMM2joAnoW"
      },
      "outputs": [],
      "source": [
        "# Default number of training epochs, batch sizes and learning rate.\n",
        "NUM_EPOCHS = 256\n",
        "BATCH_SIZE = 256\n",
        "LEARNING_RATES = 0.01\n",
        "# Directory containing dataset files.\n",
        "DATA_DIR = 'https://raw.githubusercontent.com/serenalwang/shape_constraints_for_ethics/master'"
      ]
    },
    {
      "cell_type": "markdown",
      "metadata": {
        "id": "OZJQfJvY3ibC"
      },
      "source": [
        "# Case study #1: Law school admissions\n",
        "\n",
        "In the first part of this tutorial, we will consider a case study using the Law\n",
        "School Admissions dataset from the Law School Admissions Council (LSAC). We will\n",
        "train a classifier to predict whether or not a student will pass the bar using\n",
        "two features: the student's LSAT score and undergraduate GPA.\n",
        "\n",
        "Suppose that the classifier’s score was used to guide law school admissions or\n",
        "scholarships. According to merit-based social norms, we would expect that\n",
        "students with higher GPA and higher LSAT score should receive a higher score\n",
        "from the classifier. However, we will observe that it is easy for models to\n",
        "violate these intuitive norms, and sometimes penalize people for having a higher\n",
        "GPA or LSAT score.\n",
        "\n",
        "To address this *unfair penalization* problem, we can impose monotonicity\n",
        "constraints so that a model never penalizes higher GPA or higher LSAT score, all\n",
        "else equal. In this tutorial, we will show how to impose those monotonicity\n",
        "constraints using TFL."
      ]
    },
    {
      "cell_type": "markdown",
      "metadata": {
        "id": "vJES8lYT1fHN"
      },
      "source": [
        "## Load Law School Data"
      ]
    },
    {
      "cell_type": "code",
      "execution_count": null,
      "metadata": {
        "id": "Cl89ZOsQ14An"
      },
      "outputs": [],
      "source": [
        "# Load data file.\n",
        "law_file_name = 'lsac.csv'\n",
        "law_file_path = os.path.join(DATA_DIR, law_file_name)\n",
        "raw_law_df = pd.read_csv(law_file_path, delimiter=',')"
      ]
    },
    {
      "cell_type": "markdown",
      "metadata": {
        "id": "RCpTYCNjqOsC"
      },
      "source": [
        "Preprocess dataset:"
      ]
    },
    {
      "cell_type": "code",
      "execution_count": null,
      "metadata": {
        "id": "jdY5rtLs4xQK"
      },
      "outputs": [],
      "source": [
        "# Define label column name.\n",
        "LAW_LABEL = 'pass_bar'"
      ]
    },
    {
      "cell_type": "code",
      "execution_count": null,
      "metadata": {
        "id": "1t1Hd8gu6Uat"
      },
      "outputs": [],
      "source": [
        "def preprocess_law_data(input_df):\n",
        "  # Drop rows with where the label or features of interest are missing.\n",
        "  output_df = input_df[~input_df[LAW_LABEL].isna() \u0026 ~input_df['ugpa'].isna() \u0026\n",
        "                       (input_df['ugpa'] \u003e 0) \u0026 ~input_df['lsat'].isna()]\n",
        "  return output_df\n",
        "\n",
        "\n",
        "law_df = preprocess_law_data(raw_law_df)"
      ]
    },
    {
      "cell_type": "markdown",
      "metadata": {
        "id": "YhvSKr9SCrHP"
      },
      "source": [
        "### Split data into train/validation/test sets"
      ]
    },
    {
      "cell_type": "code",
      "execution_count": null,
      "metadata": {
        "id": "gQKkIGD-CvGD"
      },
      "outputs": [],
      "source": [
        "def split_dataset(input_df, random_state=888):\n",
        "  \"\"\"Splits an input dataset into train, val, and test sets.\"\"\"\n",
        "  train_df, test_val_df = train_test_split(\n",
        "      input_df, test_size=0.3, random_state=random_state\n",
        "  )\n",
        "  val_df, test_df = train_test_split(\n",
        "      test_val_df, test_size=0.66, random_state=random_state\n",
        "  )\n",
        "  return train_df, val_df, test_df\n",
        "\n",
        "\n",
        "dataframes = {}\n",
        "datasets = {}\n",
        "\n",
        "(dataframes['law_train'], dataframes['law_val'], dataframes['law_test']) = (\n",
        "    split_dataset(law_df)\n",
        ")\n",
        "\n",
        "for df_name, df in dataframes.items():\n",
        "  datasets[df_name] = tf.data.Dataset.from_tensor_slices(\n",
        "      ((df[['ugpa']], df[['lsat']]), df[['pass_bar']])\n",
        "  ).batch(BATCH_SIZE)"
      ]
    },
    {
      "cell_type": "markdown",
      "metadata": {
        "id": "zObwzY7f3aLy"
      },
      "source": [
        "### Visualize data distribution\n",
        "\n",
        "First we will visualize the distribution of the data. We will plot the GPA and\n",
        "LSAT scores for all students that passed the bar and also for all students that\n",
        "did not pass the bar."
      ]
    },
    {
      "cell_type": "code",
      "execution_count": null,
      "metadata": {
        "id": "dRAZB5cLORUG"
      },
      "outputs": [],
      "source": [
        "def plot_dataset_contour(input_df, title):\n",
        "  plt.rcParams['font.family'] = ['serif']\n",
        "  g = sns.jointplot(\n",
        "      x='ugpa',\n",
        "      y='lsat',\n",
        "      data=input_df,\n",
        "      kind='kde',\n",
        "      xlim=[1.4, 4],\n",
        "      ylim=[0, 50])\n",
        "  g.plot_joint(plt.scatter, c='b', s=10, linewidth=1, marker='+')\n",
        "  g.ax_joint.collections[0].set_alpha(0)\n",
        "  g.set_axis_labels('Undergraduate GPA', 'LSAT score', fontsize=14)\n",
        "  g.fig.suptitle(title, fontsize=14)\n",
        "  # Adust plot so that the title fits.\n",
        "  plt.subplots_adjust(top=0.9)\n",
        "  plt.show()"
      ]
    },
    {
      "cell_type": "code",
      "execution_count": null,
      "metadata": {
        "id": "feovlsWPQhVG"
      },
      "outputs": [],
      "source": [
        "law_df_pos = law_df[law_df[LAW_LABEL] == 1]\n",
        "plot_dataset_contour(\n",
        "    law_df_pos, title='Distribution of students that passed the bar')\n",
        "law_df_neg = law_df[law_df[LAW_LABEL] == 0]\n",
        "plot_dataset_contour(\n",
        "    law_df_neg, title='Distribution of students that failed the bar')"
      ]
    },
    {
      "cell_type": "markdown",
      "metadata": {
        "id": "6grrFEMPfPjk"
      },
      "source": [
        "## Train calibrated lattice model to predict bar exam passage\n",
        "\n",
        "Next, we will train a *calibrated lattice model* from TFL to predict whether or\n",
        "not a student will pass the bar. The two input features will be LSAT score and\n",
        "undergraduate GPA, and the training label will be whether the student passed the\n",
        "bar.\n",
        "\n",
        "We will first train a calibrated lattice model without any constraints. Then, we\n",
        "will train a calibrated lattice model with monotonicity constraints and observe\n",
        "the difference in the model output and accuracy."
      ]
    },
    {
      "cell_type": "markdown",
      "metadata": {
        "id": "HSfAwgiO_6YA"
      },
      "source": [
        "### Helper functions for visualization of trained model outputs"
      ]
    },
    {
      "cell_type": "code",
      "execution_count": null,
      "metadata": {
        "id": "aw28Xc7IS6vR"
      },
      "outputs": [],
      "source": [
        "def plot_model_contour(model, from_logits=False, num_keypoints=20):\n",
        "  x = np.linspace(min(law_df['ugpa']), max(law_df['ugpa']), num_keypoints)\n",
        "  y = np.linspace(min(law_df['lsat']), max(law_df['lsat']), num_keypoints)\n",
        "\n",
        "  x_grid, y_grid = np.meshgrid(x, y)\n",
        "\n",
        "  positions = np.vstack([x_grid.ravel(), y_grid.ravel()])\n",
        "  plot_df = pd.DataFrame(positions.T, columns=['ugpa', 'lsat'])\n",
        "  plot_df[LAW_LABEL] = np.ones(len(plot_df))\n",
        "  predictions = model.predict((plot_df[['ugpa']], plot_df[['lsat']]))\n",
        "  if from_logits:\n",
        "    predictions = tf.math.sigmoid(predictions)\n",
        "  grid_predictions = np.reshape(predictions, x_grid.shape)\n",
        "\n",
        "  plt.rcParams['font.family'] = ['serif']\n",
        "  plt.contour(\n",
        "      x_grid,\n",
        "      y_grid,\n",
        "      grid_predictions,\n",
        "      colors=('k',),\n",
        "      levels=np.linspace(0, 1, 11),\n",
        "  )\n",
        "  plt.contourf(\n",
        "      x_grid,\n",
        "      y_grid,\n",
        "      grid_predictions,\n",
        "      cmap=plt.cm.bone,\n",
        "      levels=np.linspace(0, 1, 11),\n",
        "  )\n",
        "  plt.xticks(fontsize=20)\n",
        "  plt.yticks(fontsize=20)\n",
        "\n",
        "  cbar = plt.colorbar()\n",
        "  cbar.ax.set_ylabel('Model score', fontsize=20)\n",
        "  cbar.ax.tick_params(labelsize=20)\n",
        "\n",
        "  plt.xlabel('Undergraduate GPA', fontsize=20)\n",
        "  plt.ylabel('LSAT score', fontsize=20)"
      ]
    },
    {
      "cell_type": "markdown",
      "metadata": {
        "id": "fAMSCaRHIn1w"
      },
      "source": [
        "## Train unconstrained (non-monotonic) calibrated lattice model"
      ]
    },
    {
      "cell_type": "markdown",
      "metadata": {
        "id": "mK7RWDJ5ugdd"
      },
      "source": [
        "We create a TFL premade model using a '`CalibratedLatticeConfig`. This model is a calibrated lattice model with an output calibration."
      ]
    },
    {
      "cell_type": "code",
      "execution_count": null,
      "metadata": {
        "id": "J16TOicHQ1sM"
      },
      "outputs": [],
      "source": [
        "model_config = tfl.configs.CalibratedLatticeConfig(\n",
        "    feature_configs=[\n",
        "        tfl.configs.FeatureConfig(\n",
        "            name='ugpa',\n",
        "            lattice_size=3,\n",
        "            pwl_calibration_num_keypoints=16,\n",
        "            monotonicity=0,\n",
        "            pwl_calibration_always_monotonic=False,\n",
        "        ),\n",
        "        tfl.configs.FeatureConfig(\n",
        "            name='lsat',\n",
        "            lattice_size=3,\n",
        "            pwl_calibration_num_keypoints=16,\n",
        "            monotonicity=0,\n",
        "            pwl_calibration_always_monotonic=False,\n",
        "        ),\n",
        "    ],\n",
        "    output_calibration=True,\n",
        "    output_initialization=np.linspace(-2, 2, num=8),\n",
        ")"
      ]
    },
    {
      "cell_type": "markdown",
      "metadata": {
        "id": "jt1Rm6qCuuat"
      },
      "source": [
        "We calculate and populate feature quantiles in the feature configs using the `premade_lib` API."
      ]
    },
    {
      "cell_type": "code",
      "execution_count": null,
      "metadata": {
        "id": "eSELqBdURE0F"
      },
      "outputs": [],
      "source": [
        "feature_keypoints = tfl.premade_lib.compute_feature_keypoints(\n",
        "    feature_configs=model_config.feature_configs,\n",
        "    features=dataframes['law_train'][['ugpa', 'lsat', 'pass_bar']],\n",
        ")\n",
        "tfl.premade_lib.set_feature_keypoints(\n",
        "    feature_configs=model_config.feature_configs,\n",
        "    feature_keypoints=feature_keypoints,\n",
        "    add_missing_feature_configs=False,\n",
        ")"
      ]
    },
    {
      "cell_type": "code",
      "execution_count": null,
      "metadata": {
        "id": "ahV2Sn0Xz1aO"
      },
      "outputs": [],
      "source": [
        "nomon_lattice_model = tfl.premade.CalibratedLattice(model_config=model_config)\n",
        "keras.utils.plot_model(\n",
        "    nomon_lattice_model, expand_nested=True, show_layer_names=False, rankdir=\"LR\"\n",
        ")"
      ]
    },
    {
      "cell_type": "code",
      "execution_count": null,
      "metadata": {
        "id": "Oc5f-6zNtyxr"
      },
      "outputs": [],
      "source": [
        "nomon_lattice_model.compile(\n",
        "    loss=keras.losses.BinaryCrossentropy(from_logits=True),\n",
        "    metrics=[\n",
        "        keras.metrics.BinaryAccuracy(name='accuracy'),\n",
        "    ],\n",
        "    optimizer=keras.optimizers.Adam(LEARNING_RATES),\n",
        ")\n",
        "nomon_lattice_model.fit(datasets['law_train'], epochs=NUM_EPOCHS, verbose=0)\n",
        "\n",
        "train_acc = nomon_lattice_model.evaluate(datasets['law_train'])[1]\n",
        "val_acc = nomon_lattice_model.evaluate(datasets['law_val'])[1]\n",
        "test_acc = nomon_lattice_model.evaluate(datasets['law_test'])[1]\n",
        "print(\n",
        "    'accuracies for train: %f, val: %f, test: %f'\n",
        "    % (train_acc, val_acc, test_acc)\n",
        ")"
      ]
    },
    {
      "cell_type": "code",
      "execution_count": null,
      "metadata": {
        "id": "LuFxP9lDTZup"
      },
      "outputs": [],
      "source": [
        "plot_model_contour(nomon_lattice_model, from_logits=True)"
      ]
    },
    {
      "cell_type": "markdown",
      "metadata": {
        "id": "eKVkjHg_LaWb"
      },
      "source": [
        "## Train monotonic calibrated lattice model"
      ]
    },
    {
      "cell_type": "markdown",
      "metadata": {
        "id": "W42OXWLVwx3w"
      },
      "source": [
        "We can get a monotonic model by setting the monotonicity constraints in feature configs."
      ]
    },
    {
      "cell_type": "code",
      "execution_count": null,
      "metadata": {
        "id": "XeOKlPRc0BQe"
      },
      "outputs": [],
      "source": [
        "model_config.feature_configs[0].monotonicity = 1\n",
        "model_config.feature_configs[1].monotonicity = 1"
      ]
    },
    {
      "cell_type": "code",
      "execution_count": null,
      "metadata": {
        "id": "C_MUEvGNp6g2"
      },
      "outputs": [],
      "source": [
        "mon_lattice_model = tfl.premade.CalibratedLattice(model_config=model_config)\n",
        "\n",
        "mon_lattice_model.compile(\n",
        "    loss=keras.losses.BinaryCrossentropy(from_logits=True),\n",
        "    metrics=[\n",
        "        keras.metrics.BinaryAccuracy(name='accuracy'),\n",
        "    ],\n",
        "    optimizer=keras.optimizers.Adam(LEARNING_RATES),\n",
        ")\n",
        "mon_lattice_model.fit(datasets['law_train'], epochs=NUM_EPOCHS, verbose=0)\n",
        "\n",
        "train_acc = mon_lattice_model.evaluate(datasets['law_train'])[1]\n",
        "val_acc = mon_lattice_model.evaluate(datasets['law_val'])[1]\n",
        "test_acc = mon_lattice_model.evaluate(datasets['law_test'])[1]\n",
        "print(\n",
        "    'accuracies for train: %f, val: %f, test: %f'\n",
        "    % (train_acc, val_acc, test_acc)\n",
        ")"
      ]
    },
    {
      "cell_type": "code",
      "execution_count": null,
      "metadata": {
        "id": "ABdhYOUVCXzD"
      },
      "outputs": [],
      "source": [
        "plot_model_contour(mon_lattice_model, from_logits=True)"
      ]
    },
    {
      "cell_type": "markdown",
      "metadata": {
        "id": "GWzBEV_p0WE-"
      },
      "source": [
        "We demonstrated that TFL calibrated lattice models could be trained to be\n",
        "monotonic in both LSAT score and GPA without too big of a sacrifice in accuracy."
      ]
    },
    {
      "cell_type": "markdown",
      "metadata": {
        "id": "fsI14lrFxRha"
      },
      "source": [
        "## Train other unconstrained models\n",
        "\n",
        "How does the calibrated lattice model compare to other types of models, like\n",
        "deep neural networks (DNNs) or gradient boosted trees (GBTs)? Do DNNs and GBTs\n",
        "appear to have reasonably fair outputs? To address this question, we will next\n",
        "train an unconstrained DNN and GBT. In fact, we will observe that the DNN and\n",
        "GBT both easily violate monotonicity in LSAT score and undergraduate GPA."
      ]
    },
    {
      "cell_type": "markdown",
      "metadata": {
        "id": "uo1ruWXcvUqb"
      },
      "source": [
        "### Train an unconstrained Deep Neural Network (DNN) model\n",
        "\n",
        "The architecture was previously optimized to achieve high validation accuracy."
      ]
    },
    {
      "cell_type": "code",
      "execution_count": null,
      "metadata": {
        "id": "3pplraob0Od-"
      },
      "outputs": [],
      "source": [
        "keras.utils.set_random_seed(42)\n",
        "inputs = [\n",
        "    keras.Input(shape=(1,), dtype=tf.float32),\n",
        "    keras.Input(shape=(1), dtype=tf.float32),\n",
        "]\n",
        "inputs_flat = keras.layers.Concatenate()(inputs)\n",
        "dense_layers = keras.Sequential(\n",
        "    [\n",
        "        keras.layers.Dense(64, activation='relu'),\n",
        "        keras.layers.Dense(32, activation='relu'),\n",
        "        keras.layers.Dense(1, activation=None),\n",
        "    ],\n",
        "    name='dense_layers',\n",
        ")\n",
        "dnn_model = keras.Model(inputs=inputs, outputs=dense_layers(inputs_flat))\n",
        "dnn_model.compile(\n",
        "    loss=keras.losses.BinaryCrossentropy(from_logits=True),\n",
        "    metrics=[keras.metrics.BinaryAccuracy(name='accuracy')],\n",
        "    optimizer=keras.optimizers.Adam(LEARNING_RATES),\n",
        ")\n",
        "dnn_model.fit(datasets['law_train'], epochs=NUM_EPOCHS, verbose=0)\n",
        "\n",
        "train_acc = dnn_model.evaluate(datasets['law_train'])[1]\n",
        "val_acc = dnn_model.evaluate(datasets['law_val'])[1]\n",
        "test_acc = dnn_model.evaluate(datasets['law_test'])[1]\n",
        "print(\n",
        "    'accuracies for train: %f, val: %f, test: %f'\n",
        "    % (train_acc, val_acc, test_acc)\n",
        ")"
      ]
    },
    {
      "cell_type": "code",
      "execution_count": null,
      "metadata": {
        "id": "LwPQqLt-E7R4"
      },
      "outputs": [],
      "source": [
        "plot_model_contour(dnn_model, from_logits=True)"
      ]
    },
    {
      "cell_type": "markdown",
      "metadata": {
        "id": "OOAKK0_3vWir"
      },
      "source": [
        "### Train an unconstrained Gradient Boosted Trees (GBT) model\n",
        "\n",
        "The tree structure was previously optimized to achieve high validation accuracy."
      ]
    },
    {
      "cell_type": "code",
      "execution_count": null,
      "metadata": {
        "id": "6UrCJHqhgd3o"
      },
      "outputs": [],
      "source": [
        "tree_model = tfdf.keras.GradientBoostedTreesModel(\n",
        "    exclude_non_specified_features=False,\n",
        "    num_threads=1,\n",
        "    num_trees=20,\n",
        "    max_depth=4,\n",
        "    growing_strategy='BEST_FIRST_GLOBAL',\n",
        "    random_seed=42,\n",
        "    temp_directory=tempfile.mkdtemp(),\n",
        ")\n",
        "tree_model.compile(metrics=[keras.metrics.BinaryAccuracy(name='accuracy')])\n",
        "tree_model.fit(\n",
        "    datasets['law_train'], validation_data=datasets['law_val'], verbose=0\n",
        ")\n",
        "\n",
        "tree_train_acc = tree_model.evaluate(datasets['law_train'], verbose=0)[1]\n",
        "tree_val_acc = tree_model.evaluate(datasets['law_val'], verbose=0)[1]\n",
        "tree_test_acc = tree_model.evaluate(datasets['law_test'], verbose=0)[1]\n",
        "print(\n",
        "    'accuracies for GBT: train: %f, val: %f, test: %f'\n",
        "    % (tree_train_acc, tree_val_acc, tree_test_acc)\n",
        ")"
      ]
    },
    {
      "cell_type": "code",
      "execution_count": null,
      "metadata": {
        "id": "AZFyfQT1E_nR"
      },
      "outputs": [],
      "source": [
        "plot_model_contour(tree_model)"
      ]
    },
    {
      "cell_type": "markdown",
      "metadata": {
        "id": "uX2qiMlrY8aO"
      },
      "source": [
        "# Case study #2: Credit Default\n",
        "\n",
        "The second case study that we will consider in this tutorial is predicting an\n",
        "individual's credit default probability. We will use the Default of Credit Card\n",
        "Clients dataset from the UCI repository. This data was collected from 30,000\n",
        "Taiwanese credit card users and contains a binary label of whether or not a user\n",
        "defaulted on a payment in a time window. Features include marital status,\n",
        "gender, education, and how long a user is behind on payment of their existing\n",
        "bills, for each of the months of April-September 2005.\n",
        "\n",
        "As we did with the first case study, we again illustrate using monotonicity\n",
        "constraints to avoid *unfair penalization*: if the model were to be used to\n",
        "determine a user’s credit score, it could feel unfair to many if they were\n",
        "penalized for paying their bills sooner, all else equal. Thus, we apply a\n",
        "monotonicity constraint that keeps the model from penalizing early payments."
      ]
    },
    {
      "cell_type": "markdown",
      "metadata": {
        "id": "tz5yduNuFinA"
      },
      "source": [
        "## Load Credit Default data"
      ]
    },
    {
      "cell_type": "code",
      "execution_count": null,
      "metadata": {
        "id": "KuylMNBCILwy"
      },
      "outputs": [],
      "source": [
        "# Load data file.\n",
        "credit_file_name = 'credit_default.csv'\n",
        "credit_file_path = os.path.join(DATA_DIR, credit_file_name)\n",
        "credit_df = pd.read_csv(credit_file_path, delimiter=',')"
      ]
    },
    {
      "cell_type": "code",
      "execution_count": null,
      "metadata": {
        "id": "Hv_GQcEHIf9v"
      },
      "outputs": [],
      "source": [
        "# Define label column name.\n",
        "CREDIT_LABEL = 'default'"
      ]
    },
    {
      "cell_type": "markdown",
      "metadata": {
        "id": "13oZWY0YIoy3"
      },
      "source": [
        "### Split data into train/validation/test sets"
      ]
    },
    {
      "cell_type": "code",
      "execution_count": null,
      "metadata": {
        "id": "dty5tXJqIscz"
      },
      "outputs": [],
      "source": [
        "dfs = {}\n",
        "datasets = {}\n",
        "\n",
        "dfs[\"credit_train\"], dfs[\"credit_val\"], dfs[\"credit_test\"] = split_dataset(\n",
        "    credit_df\n",
        ")\n",
        "\n",
        "for df_name, df in dfs.items():\n",
        "  datasets[df_name] = tf.data.Dataset.from_tensor_slices(\n",
        "      ((df[['MARRIAGE']], df[['PAY_0']]), df[['default']])\n",
        "  ).batch(BATCH_SIZE)"
      ]
    },
    {
      "cell_type": "markdown",
      "metadata": {
        "id": "_kAciWXHKGV7"
      },
      "source": [
        "### Visualize data distribution\n",
        "\n",
        "First we will visualize the distribution of the data. We will plot the mean and\n",
        "standard error of the observed default rate for people with different marital\n",
        "statuses and repayment statuses. The repayment status represents the number of\n",
        "months a person is behind on paying back their loan (as of April 2005)."
      ]
    },
    {
      "cell_type": "code",
      "execution_count": null,
      "metadata": {
        "id": "8CxacQxnkHWE"
      },
      "outputs": [],
      "source": [
        "def get_agg_data(df, x_col, y_col, bins=11):\n",
        "  xbins = pd.cut(df[x_col], bins=bins)\n",
        "  data = df[[x_col, y_col]].groupby(xbins).agg(['mean', 'sem'])\n",
        "  return data\n",
        "\n",
        "\n",
        "def plot_2d_means_credit(input_df, x_col, y_col, x_label, y_label):\n",
        "  plt.rcParams['font.family'] = ['serif']\n",
        "  _, ax = plt.subplots(nrows=1, ncols=1)\n",
        "  plt.setp(ax.spines.values(), color='black', linewidth=1)\n",
        "  ax.tick_params(\n",
        "      direction='in', length=6, width=1, top=False, right=False, labelsize=18)\n",
        "  df_single = get_agg_data(input_df[input_df['MARRIAGE'] == 1], x_col, y_col)\n",
        "  df_married = get_agg_data(input_df[input_df['MARRIAGE'] == 2], x_col, y_col)\n",
        "  ax.errorbar(\n",
        "      df_single[(x_col, 'mean')],\n",
        "      df_single[(y_col, 'mean')],\n",
        "      xerr=df_single[(x_col, 'sem')],\n",
        "      yerr=df_single[(y_col, 'sem')],\n",
        "      color='orange',\n",
        "      marker='s',\n",
        "      capsize=3,\n",
        "      capthick=1,\n",
        "      label='Single',\n",
        "      markersize=10,\n",
        "      linestyle='')\n",
        "  ax.errorbar(\n",
        "      df_married[(x_col, 'mean')],\n",
        "      df_married[(y_col, 'mean')],\n",
        "      xerr=df_married[(x_col, 'sem')],\n",
        "      yerr=df_married[(y_col, 'sem')],\n",
        "      color='b',\n",
        "      marker='^',\n",
        "      capsize=3,\n",
        "      capthick=1,\n",
        "      label='Married',\n",
        "      markersize=10,\n",
        "      linestyle='')\n",
        "  leg = ax.legend(loc='upper left', fontsize=18, frameon=True, numpoints=1)\n",
        "  ax.set_xlabel(x_label, fontsize=18)\n",
        "  ax.set_ylabel(y_label, fontsize=18)\n",
        "  ax.set_ylim(0, 1.1)\n",
        "  ax.set_xlim(-2, 8.5)\n",
        "  ax.patch.set_facecolor('white')\n",
        "  leg.get_frame().set_edgecolor('black')\n",
        "  leg.get_frame().set_facecolor('white')\n",
        "  leg.get_frame().set_linewidth(1)\n",
        "  plt.show()"
      ]
    },
    {
      "cell_type": "code",
      "execution_count": null,
      "metadata": {
        "id": "VHXyYbyekKLT"
      },
      "outputs": [],
      "source": [
        "plot_2d_means_credit(\n",
        "    dfs['credit_train'],\n",
        "    'PAY_0',\n",
        "    'default',\n",
        "    'Repayment Status (April)',\n",
        "    'Observed default rate',\n",
        ")"
      ]
    },
    {
      "cell_type": "markdown",
      "metadata": {
        "id": "4hnZBigB7kzY"
      },
      "source": [
        "## Train calibrated lattice model to predict credit default rate\n",
        "\n",
        "Next, we will train a *calibrated lattice model* from TFL to predict whether or\n",
        "not a person will default on a loan. The two input features will be the person's\n",
        "marital status and how many months the person is behind on paying back their\n",
        "loans in April (repayment status). The training label will be whether or not the\n",
        "person defaulted on a loan.\n",
        "\n",
        "We will first train a calibrated lattice model without any constraints. Then, we\n",
        "will train a calibrated lattice model with monotonicity constraints and observe\n",
        "the difference in the model output and accuracy."
      ]
    },
    {
      "cell_type": "markdown",
      "metadata": {
        "id": "iwxnlRrQPdTg"
      },
      "source": [
        "### Helper functions for visualization of trained model outputs"
      ]
    },
    {
      "cell_type": "code",
      "execution_count": null,
      "metadata": {
        "id": "zVGxEfbhPZ5H"
      },
      "outputs": [],
      "source": [
        "def plot_predictions_credit(\n",
        "    input_df,\n",
        "    model,\n",
        "    x_col,\n",
        "    x_label='Repayment Status (April)',\n",
        "    y_label='Predicted default probability',\n",
        "):\n",
        "  predictions = model.predict((input_df[['MARRIAGE']], input_df[['PAY_0']]))\n",
        "  predictions = tf.math.sigmoid(predictions)\n",
        "  new_df = input_df.copy()\n",
        "  new_df.loc[:, 'predictions'] = predictions\n",
        "  plot_2d_means_credit(new_df, x_col, 'predictions', x_label, y_label)"
      ]
    },
    {
      "cell_type": "markdown",
      "metadata": {
        "id": "UMIpywE1P07H"
      },
      "source": [
        "## Train unconstrained (non-monotonic) calibrated lattice model"
      ]
    },
    {
      "cell_type": "code",
      "execution_count": null,
      "metadata": {
        "id": "cxGu3gBOApOm"
      },
      "outputs": [],
      "source": [
        "model_config = tfl.configs.CalibratedLatticeConfig(\n",
        "    feature_configs=[\n",
        "        tfl.configs.FeatureConfig(\n",
        "            name='MARRIAGE',\n",
        "            lattice_size=3,\n",
        "            pwl_calibration_num_keypoints=2,\n",
        "            monotonicity=0,\n",
        "            pwl_calibration_always_monotonic=False,\n",
        "        ),\n",
        "        tfl.configs.FeatureConfig(\n",
        "            name='PAY_0',\n",
        "            lattice_size=3,\n",
        "            pwl_calibration_num_keypoints=16,\n",
        "            monotonicity=0,\n",
        "            pwl_calibration_always_monotonic=False,\n",
        "        ),\n",
        "    ],\n",
        "    output_calibration=True,\n",
        "    output_initialization=np.linspace(-2, 2, num=8),\n",
        ")"
      ]
    },
    {
      "cell_type": "code",
      "execution_count": null,
      "metadata": {
        "id": "cVZKH36LA8BQ"
      },
      "outputs": [],
      "source": [
        "feature_keypoints = tfl.premade_lib.compute_feature_keypoints(\n",
        "    feature_configs=model_config.feature_configs,\n",
        "    features=dfs[\"credit_train\"][['MARRIAGE', 'PAY_0', 'default']],\n",
        ")\n",
        "tfl.premade_lib.set_feature_keypoints(\n",
        "    feature_configs=model_config.feature_configs,\n",
        "    feature_keypoints=feature_keypoints,\n",
        "    add_missing_feature_configs=False,\n",
        ")"
      ]
    },
    {
      "cell_type": "code",
      "execution_count": null,
      "metadata": {
        "id": "2It6hvNRA8Bi"
      },
      "outputs": [],
      "source": [
        "nomon_lattice_model = tfl.premade.CalibratedLattice(model_config=model_config)\n",
        "\n",
        "nomon_lattice_model.compile(\n",
        "    loss=keras.losses.BinaryCrossentropy(from_logits=True),\n",
        "    metrics=[\n",
        "        keras.metrics.BinaryAccuracy(name='accuracy'),\n",
        "    ],\n",
        "    optimizer=keras.optimizers.Adam(LEARNING_RATES),\n",
        ")\n",
        "nomon_lattice_model.fit(datasets['credit_train'], epochs=NUM_EPOCHS, verbose=0)\n",
        "\n",
        "train_acc = nomon_lattice_model.evaluate(datasets['credit_train'])[1]\n",
        "val_acc = nomon_lattice_model.evaluate(datasets['credit_val'])[1]\n",
        "test_acc = nomon_lattice_model.evaluate(datasets['credit_test'])[1]\n",
        "print(\n",
        "    'accuracies for train: %f, val: %f, test: %f'\n",
        "    % (train_acc, val_acc, test_acc)\n",
        ")"
      ]
    },
    {
      "cell_type": "code",
      "execution_count": null,
      "metadata": {
        "id": "5zQ_jm75kRX6"
      },
      "outputs": [],
      "source": [
        "plot_predictions_credit(dfs['credit_train'], nomon_lattice_model, 'PAY_0')"
      ]
    },
    {
      "cell_type": "markdown",
      "metadata": {
        "id": "0aokp7qLQBIr"
      },
      "source": [
        "## Train monotonic calibrated lattice model"
      ]
    },
    {
      "cell_type": "code",
      "execution_count": null,
      "metadata": {
        "id": "MbB2ixYMC6Za"
      },
      "outputs": [],
      "source": [
        "model_config.feature_configs[0].monotonicity = 1\n",
        "model_config.feature_configs[1].monotonicity = 1"
      ]
    },
    {
      "cell_type": "code",
      "execution_count": null,
      "metadata": {
        "id": "wWCG7YrLUZDH"
      },
      "outputs": [],
      "source": [
        "mon_lattice_model = tfl.premade.CalibratedLattice(model_config=model_config)\n",
        "\n",
        "mon_lattice_model.compile(\n",
        "    loss=keras.losses.BinaryCrossentropy(from_logits=True),\n",
        "    metrics=[\n",
        "        keras.metrics.BinaryAccuracy(name='accuracy'),\n",
        "    ],\n",
        "    optimizer=keras.optimizers.Adam(LEARNING_RATES),\n",
        ")\n",
        "mon_lattice_model.fit(datasets['credit_train'], epochs=NUM_EPOCHS, verbose=0)\n",
        "\n",
        "train_acc = mon_lattice_model.evaluate(datasets['credit_train'])[1]\n",
        "val_acc = mon_lattice_model.evaluate(datasets['credit_val'])[1]\n",
        "test_acc = mon_lattice_model.evaluate(datasets['credit_test'])[1]\n",
        "print(\n",
        "    'accuracies for train: %f, val: %f, test: %f'\n",
        "    % (train_acc, val_acc, test_acc)\n",
        ")"
      ]
    },
    {
      "cell_type": "code",
      "execution_count": null,
      "metadata": {
        "id": "JCQ2eMdndFhR"
      },
      "outputs": [],
      "source": [
        "plot_predictions_credit(dfs['credit_train'], mon_lattice_model, 'PAY_0')"
      ]
    }
  ],
  "metadata": {
    "colab": {
      "collapsed_sections": [],
      "name": "shape_constraints_for_ethics.ipynb",
      "private_outputs": true,
      "provenance": [],
      "toc_visible": true
    },
    "kernelspec": {
      "display_name": "Python 3",
      "name": "python3"
    }
  },
  "nbformat": 4,
  "nbformat_minor": 0
}
